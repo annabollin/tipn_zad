{
 "cells": [
  {
   "cell_type": "code",
   "execution_count": 4,
   "metadata": {},
   "outputs": [],
   "source": []
  },
  {
   "cell_type": "code",
   "execution_count": 7,
   "metadata": {},
   "outputs": [
    {
     "name": "stdout",
     "output_type": "stream",
     "text": [
      "Każdy śpiewa pod prysznicem i jest to całkowicie normalne.\n"
     ]
    },
    {
     "name": "stdin",
     "output_type": "stream",
     "text": [
      "1-zupełnie się nie zgadzam, 5-całkowicie się zgadzam: 3\n"
     ]
    },
    {
     "name": "stdout",
     "output_type": "stream",
     "text": [
      "Każdy zawijał lub zawija kołdrę pod nogi, żeby nie dosięgnęły go potwory spod łóżka.\n"
     ]
    },
    {
     "name": "stdin",
     "output_type": "stream",
     "text": [
      "1-zupełnie się nie zgadzam, 5-całkowicie się zgadzam: 3\n"
     ]
    },
    {
     "name": "stdout",
     "output_type": "stream",
     "text": [
      "Za moich czasów hitem był EPULS i pisanie w html.\n"
     ]
    },
    {
     "name": "stdin",
     "output_type": "stream",
     "text": [
      "1-zupełnie się nie zgadzam, 5-całkowicie się zgadzam: 3\n"
     ]
    },
    {
     "name": "stdout",
     "output_type": "stream",
     "text": [
      "GAME BOY i PEGASUS dawały szacun na dzielni.\n"
     ]
    },
    {
     "name": "stdin",
     "output_type": "stream",
     "text": [
      "1-zupełnie się nie zgadzam, 5-całkowicie się zgadzam: 3\n"
     ]
    },
    {
     "name": "stdout",
     "output_type": "stream",
     "text": [
      "Najgorszym podwórkowym wykroczeniem było uderzenie w szczepionkę.\n"
     ]
    },
    {
     "name": "stdin",
     "output_type": "stream",
     "text": [
      "1-zupełnie się nie zgadzam, 5-całkowicie się zgadzam: 3\n"
     ]
    },
    {
     "name": "stdout",
     "output_type": "stream",
     "text": [
      "Nie jest najgorzej, ale nadrób zaległości- w miarę możliwości.\n"
     ]
    }
   ],
   "source": [
    "a = \"Każdy śpiewa pod prysznicem i jest to całkowicie normalne.\"\n",
    "b = \"Każdy zawijał lub zawija kołdrę pod nogi, żeby nie dosięgnęły go potwory spod łóżka.\"\n",
    "c = \"Za moich czasów hitem był EPULS i pisanie w html.\"\n",
    "d = \"GAME BOY i PEGASUS dawały szacun na dzielni.\"\n",
    "e = \"Najgorszym podwórkowym wykroczeniem było uderzenie w szczepionkę.\"\n",
    "zbiór = []\n",
    "\n",
    "def spr(la):\n",
    "    lista = [a, b, c, d, e]\n",
    "    \n",
    "def zad_pyt(a):\n",
    "    print(a)\n",
    "    b = input(\"1-zupełnie się nie zgadzam, 5-całkowicie się zgadzam:\")\n",
    "    b = int(b)\n",
    "    if b < 1 or b > 5:\n",
    "        print(\"No nie żartuj sobie stary\")\n",
    "    else:\n",
    "        return b\n",
    "        \n",
    "sc=zad_pyt(a)\n",
    "zbiór.append(sc)\n",
    "sc=zad_pyt(b)\n",
    "zbiór.append(sc)\n",
    "sc=zad_pyt(c)\n",
    "zbiór.append(sc)\n",
    "sc=zad_pyt(d)\n",
    "zbiór.append(sc)\n",
    "sc=zad_pyt(e)\n",
    "zbiór.append(sc)\n",
    "wynik = sum(zbiór)\n",
    "wynik=int(wynik)\n",
    "\n",
    "if wynik >= 5 and wynik < 10:\n",
    "    print(\"Coś jest z Tobą nie tak. Przykro mi, że musiałeś/łaś dowiedzieć się tego ode mnie.\")\n",
    "elif wynik >= 10 and wynik < 12:\n",
    "    print(\"Co Ty robiłeś ze swoim życiem? W szafie siedziałeś?\")\n",
    "elif wynik >= 12 and wynik < 16:\n",
    "    print(\"Nie jest najgorzej, ale nadrób zaległości- w miarę możliwości.\")\n",
    "elif wynik >= 16 and wynik < 20:\n",
    "    print(\"Spoko z Ciebie ziom. Chyba.\")\n",
    "elif wynik >= 20 and wynik < 25:\n",
    "    print(\"Jesteś cool. Przesyłam uściski, pozdrów rodzinkę\")\n",
    "elif wynik == 25:\n",
    "    print(\"Hakuna matata bracie, JESTEŚ RÓWNY GOŚĆ\")\n",
    "    \n",
    "    \n",
    "if wynik > 0:\n",
    "    zbiór.pop(0)\n",
    "    zbiór.pop(0)\n",
    "    zbiór.pop(0)\n",
    "    zbiór.pop(0)\n",
    "    zbiór.pop(0)"
   ]
  },
  {
   "cell_type": "code",
   "execution_count": null,
   "metadata": {},
   "outputs": [],
   "source": []
  }
 ],
 "metadata": {
  "kernelspec": {
   "display_name": "Python 3",
   "language": "python",
   "name": "python3"
  },
  "language_info": {
   "codemirror_mode": {
    "name": "ipython",
    "version": 3
   },
   "file_extension": ".py",
   "mimetype": "text/x-python",
   "name": "python",
   "nbconvert_exporter": "python",
   "pygments_lexer": "ipython3",
   "version": "3.7.0"
  }
 },
 "nbformat": 4,
 "nbformat_minor": 2
}
