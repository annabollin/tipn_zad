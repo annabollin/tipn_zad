{
 "cells": [
  {
   "cell_type": "markdown",
   "metadata": {},
   "source": [
    "## To jest notebook, który liczy średnią ze wszystkich przedmiotów w semetrze zimowym 2018/19"
   ]
  },
  {
   "cell_type": "code",
   "execution_count": 13,
   "metadata": {},
   "outputs": [],
   "source": [
    "metodologia= 4.5\n",
    "psychologia_ogolna= 5.0\n",
    "angielski= 5.0\n",
    "tipn= 4.0\n",
    "filozofia= 4.0\n",
    "neuroanatomia= 3.5\n",
    "biologiczne_mechanizmy= 4.5\n",
    "komunikacja_interpersonalna= 5.0\n",
    "logika= 5.0"
   ]
  },
  {
   "cell_type": "code",
   "execution_count": 14,
   "metadata": {},
   "outputs": [],
   "source": [
    "suma = metodologia + psychologia_ogolna + angielski + tipn + filozofia + neuroanatomia + biologiczne_mechanizmy + komunikacja_interpersonalna + logika"
   ]
  },
  {
   "cell_type": "code",
   "execution_count": 15,
   "metadata": {},
   "outputs": [],
   "source": [
    "srednia= suma /9"
   ]
  },
  {
   "cell_type": "code",
   "execution_count": 16,
   "metadata": {},
   "outputs": [
    {
     "name": "stdout",
     "output_type": "stream",
     "text": [
      "Moja średnia w pierwszym semetrze to 4.5\n"
     ]
    }
   ],
   "source": [
    "print(\"Moja średnia w pierwszym semetrze to \" +str(srednia))"
   ]
  },
  {
   "cell_type": "code",
   "execution_count": null,
   "metadata": {},
   "outputs": [],
   "source": []
  }
 ],
 "metadata": {
  "kernelspec": {
   "display_name": "Python 3",
   "language": "python",
   "name": "python3"
  },
  "language_info": {
   "codemirror_mode": {
    "name": "ipython",
    "version": 3
   },
   "file_extension": ".py",
   "mimetype": "text/x-python",
   "name": "python",
   "nbconvert_exporter": "python",
   "pygments_lexer": "ipython3",
   "version": "3.7.0"
  }
 },
 "nbformat": 4,
 "nbformat_minor": 2
}
