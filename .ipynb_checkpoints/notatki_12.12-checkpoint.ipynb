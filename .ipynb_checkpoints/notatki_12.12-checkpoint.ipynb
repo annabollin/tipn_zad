{
 "cells": [
  {
   "cell_type": "code",
   "execution_count": 2,
   "metadata": {},
   "outputs": [
    {
     "name": "stdin",
     "output_type": "stream",
     "text": [
      "powiedz jak masz na imię Ania\n"
     ]
    },
    {
     "name": "stdout",
     "output_type": "stream",
     "text": [
      "Twoje imie to  \n",
      "<class 'str'>\n"
     ]
    }
   ],
   "source": [
    "imie = input(\"powiedz jak masz na imię\")\n",
    "print(\"Twoje imie to  \")\n",
    "print(type(imie))"
   ]
  },
  {
   "cell_type": "code",
   "execution_count": 1,
   "metadata": {},
   "outputs": [
    {
     "name": "stdin",
     "output_type": "stream",
     "text": [
      "podaj liczbę 3\n"
     ]
    },
    {
     "name": "stdout",
     "output_type": "stream",
     "text": [
      "pierwiastek trzeciego stopnia z liczby to:  1.4422495703074083\n"
     ]
    }
   ],
   "source": [
    "liczba = input(\"podaj liczbę\")\n",
    "liczba = float(liczba)\n",
    "wynik = liczba ** (1/3)\n",
    "print(\"pierwiastek trzeciego stopnia z liczby to: \", wynik )"
   ]
  },
  {
   "cell_type": "code",
   "execution_count": 2,
   "metadata": {},
   "outputs": [
    {
     "data": {
      "text/plain": [
       "False"
      ]
     },
     "execution_count": 2,
     "metadata": {},
     "output_type": "execute_result"
    }
   ],
   "source": [
    "3 > 5\n"
   ]
  },
  {
   "cell_type": "code",
   "execution_count": 3,
   "metadata": {},
   "outputs": [
    {
     "data": {
      "text/plain": [
       "False"
      ]
     },
     "execution_count": 3,
     "metadata": {},
     "output_type": "execute_result"
    }
   ],
   "source": [
    "123 % 2 == 0\n"
   ]
  },
  {
   "cell_type": "code",
   "execution_count": 6,
   "metadata": {},
   "outputs": [
    {
     "data": {
      "text/plain": [
       "False"
      ]
     },
     "execution_count": 6,
     "metadata": {},
     "output_type": "execute_result"
    }
   ],
   "source": [
    "122 % 2 == 0 and 122 % 6 == 0"
   ]
  },
  {
   "cell_type": "code",
   "execution_count": 9,
   "metadata": {},
   "outputs": [
    {
     "data": {
      "text/plain": [
       "True"
      ]
     },
     "execution_count": 9,
     "metadata": {},
     "output_type": "execute_result"
    }
   ],
   "source": [
    "x = 122\n",
    "x % 2 == 0 or x % 6 == 0"
   ]
  },
  {
   "cell_type": "code",
   "execution_count": 17,
   "metadata": {},
   "outputs": [
    {
     "data": {
      "text/plain": [
       "True"
      ]
     },
     "execution_count": 17,
     "metadata": {},
     "output_type": "execute_result"
    }
   ],
   "source": [
    "not (123>2 ** 4) or (123 > 3 **2) "
   ]
  },
  {
   "cell_type": "code",
   "execution_count": 21,
   "metadata": {},
   "outputs": [
    {
     "name": "stdout",
     "output_type": "stream",
     "text": [
      "wiruję!\n",
      "... i jednak nie\n"
     ]
    }
   ],
   "source": [
    "wirowanie = False\n",
    "\n",
    "\n",
    "if wirowanie == True:\n",
    "    print(\"wirujemy!\")\n",
    "    print(\"wirujemy!\")\n",
    "    print(\"wirujemy!\")\n",
    "    print(\"wirujemy!\")\n",
    "print(\"wiruję!\")\n",
    "print(\"... i jednak nie\")"
   ]
  },
  {
   "cell_type": "code",
   "execution_count": 23,
   "metadata": {},
   "outputs": [
    {
     "name": "stdin",
     "output_type": "stream",
     "text": [
      "podaj liczbę:  123\n"
     ]
    },
    {
     "name": "stdout",
     "output_type": "stream",
     "text": [
      "liczba jest nieparzysta\n"
     ]
    }
   ],
   "source": [
    "liczba = input(\"podaj liczbę: \")\n",
    "liczba = int(liczba)\n",
    "if liczba % 2 == 0:\n",
    "    print(\"liczba jest parzysta\")\n",
    "else:\n",
    "    print(\"liczba jest nieparzysta\")\n"
   ]
  },
  {
   "cell_type": "code",
   "execution_count": 6,
   "metadata": {},
   "outputs": [
    {
     "name": "stdin",
     "output_type": "stream",
     "text": [
      "podaj liczbę:  8573538494838\n"
     ]
    },
    {
     "name": "stdout",
     "output_type": "stream",
     "text": [
      "liczba dzieli się przez 2, ale nie przez 4\n"
     ]
    }
   ],
   "source": [
    "liczba = input(\"podaj liczbę: \")\n",
    "liczba = int(liczba)\n",
    "if liczba % 4 == 0:\n",
    "    print(\"liczba dzieli się przez 4\")\n",
    "elif liczba % 2 ==0:\n",
    "    print(\"liczba dzieli się przez 2, ale nie przez 4\")\n",
    "else:\n",
    "    print(\"liczba nie dzieli się ani przez 2 ani przez 4\")"
   ]
  },
  {
   "cell_type": "code",
   "execution_count": 10,
   "metadata": {},
   "outputs": [],
   "source": [
    "ludzie = [\"Basia\", \"Kasia\", \"Asia\", \"Stasia\", \"Jasia\", \"Jan\", \"Lucjan\"]\n"
   ]
  },
  {
   "cell_type": "code",
   "execution_count": 11,
   "metadata": {},
   "outputs": [
    {
     "data": {
      "text/plain": [
       "['Basia', 'Kasia', 'Asia', 'Stasia', 'Jasia', 'Jan', 'Lucjan']"
      ]
     },
     "execution_count": 11,
     "metadata": {},
     "output_type": "execute_result"
    }
   ],
   "source": [
    "ludzie"
   ]
  },
  {
   "cell_type": "code",
   "execution_count": 9,
   "metadata": {},
   "outputs": [
    {
     "data": {
      "text/plain": [
       "['Asia', 'Stasia', 'Jasia']"
      ]
     },
     "execution_count": 9,
     "metadata": {},
     "output_type": "execute_result"
    }
   ],
   "source": [
    "ludzie [2:5]"
   ]
  },
  {
   "cell_type": "code",
   "execution_count": 12,
   "metadata": {},
   "outputs": [
    {
     "data": {
      "text/plain": [
       "['Basia', 'Kasia', 'Asia', 'Stasia']"
      ]
     },
     "execution_count": 12,
     "metadata": {},
     "output_type": "execute_result"
    }
   ],
   "source": [
    "ludzie [0: -3]"
   ]
  },
  {
   "cell_type": "code",
   "execution_count": 19,
   "metadata": {},
   "outputs": [],
   "source": [
    "#print(\"ostatni element to zawsze -1\")"
   ]
  },
  {
   "cell_type": "code",
   "execution_count": 20,
   "metadata": {},
   "outputs": [],
   "source": [
    "#print(\"zawsze jest <x,y) tzn jednostronnie domknięty\")"
   ]
  },
  {
   "cell_type": "code",
   "execution_count": 21,
   "metadata": {},
   "outputs": [
    {
     "data": {
      "text/plain": [
       "['Asia', 'Stasia', 'Jasia', 'Jan', 'Lucjan']"
      ]
     },
     "execution_count": 21,
     "metadata": {},
     "output_type": "execute_result"
    }
   ],
   "source": [
    "ludzie [2 : ]"
   ]
  },
  {
   "cell_type": "code",
   "execution_count": 22,
   "metadata": {},
   "outputs": [
    {
     "data": {
      "text/plain": [
       "['Basia', 'Kasia', 'Asia', 'Stasia', 'Jasia']"
      ]
     },
     "execution_count": 22,
     "metadata": {},
     "output_type": "execute_result"
    }
   ],
   "source": [
    "ludzie[:5]"
   ]
  },
  {
   "cell_type": "code",
   "execution_count": 25,
   "metadata": {},
   "outputs": [
    {
     "data": {
      "text/plain": [
       "['Asia', 'Stasia', 'Jasia']"
      ]
     },
     "execution_count": 25,
     "metadata": {},
     "output_type": "execute_result"
    }
   ],
   "source": [
    "od = 2\n",
    "do = 4\n",
    "ludzie[od : do+1]"
   ]
  },
  {
   "cell_type": "code",
   "execution_count": 26,
   "metadata": {},
   "outputs": [
    {
     "data": {
      "text/plain": [
       "['Basia', 'Asia', 'Jasia', 'Lucjan']"
      ]
     },
     "execution_count": 26,
     "metadata": {},
     "output_type": "execute_result"
    }
   ],
   "source": [
    "ludzie [::2]"
   ]
  },
  {
   "cell_type": "code",
   "execution_count": 28,
   "metadata": {},
   "outputs": [],
   "source": [
    "#wyskoczyl co drugi człek"
   ]
  },
  {
   "cell_type": "code",
   "execution_count": 29,
   "metadata": {},
   "outputs": [],
   "source": [
    "ludzie.append(\"Wiesia\")\n",
    "ludzie.append(\"Esteban\")\n",
    "ludzie.append(\"esteban julio ricardo montoya de la rosa ramirez\")"
   ]
  },
  {
   "cell_type": "code",
   "execution_count": 31,
   "metadata": {},
   "outputs": [
    {
     "data": {
      "text/plain": [
       "10"
      ]
     },
     "execution_count": 31,
     "metadata": {},
     "output_type": "execute_result"
    }
   ],
   "source": [
    "len(ludzie)"
   ]
  },
  {
   "cell_type": "code",
   "execution_count": 32,
   "metadata": {},
   "outputs": [],
   "source": [
    "ludzie.append(\"Rysio\")"
   ]
  },
  {
   "cell_type": "code",
   "execution_count": 33,
   "metadata": {},
   "outputs": [
    {
     "data": {
      "text/plain": [
       "11"
      ]
     },
     "execution_count": 33,
     "metadata": {},
     "output_type": "execute_result"
    }
   ],
   "source": [
    "len(ludzie)"
   ]
  },
  {
   "cell_type": "code",
   "execution_count": 34,
   "metadata": {},
   "outputs": [
    {
     "data": {
      "text/plain": [
       "['Basia',\n",
       " 'Kasia',\n",
       " 'Asia',\n",
       " 'Stasia',\n",
       " 'Jasia',\n",
       " 'Jan',\n",
       " 'Lucjan',\n",
       " 'Wiesia',\n",
       " 'Esteban',\n",
       " 'esteban julio ricardo montoya de la rosa ramirez',\n",
       " 'Rysio']"
      ]
     },
     "execution_count": 34,
     "metadata": {},
     "output_type": "execute_result"
    }
   ],
   "source": [
    "ludzie"
   ]
  },
  {
   "cell_type": "code",
   "execution_count": 38,
   "metadata": {},
   "outputs": [
    {
     "data": {
      "text/plain": [
       "'Stasia'"
      ]
     },
     "execution_count": 38,
     "metadata": {},
     "output_type": "execute_result"
    }
   ],
   "source": [
    "ludzie.pop(3)"
   ]
  },
  {
   "cell_type": "code",
   "execution_count": 39,
   "metadata": {},
   "outputs": [
    {
     "data": {
      "text/plain": [
       "['Basia',\n",
       " 'Kasia',\n",
       " 'Asia',\n",
       " 'Jasia',\n",
       " 'Jan',\n",
       " 'Lucjan',\n",
       " 'Wiesia',\n",
       " 'Esteban',\n",
       " 'esteban julio ricardo montoya de la rosa ramirez',\n",
       " 'Rysio']"
      ]
     },
     "execution_count": 39,
     "metadata": {},
     "output_type": "execute_result"
    }
   ],
   "source": [
    "ludzie"
   ]
  },
  {
   "cell_type": "code",
   "execution_count": 41,
   "metadata": {},
   "outputs": [],
   "source": [
    "ludzie.remove(\"Asia\")"
   ]
  },
  {
   "cell_type": "code",
   "execution_count": 42,
   "metadata": {},
   "outputs": [
    {
     "data": {
      "text/plain": [
       "['Basia',\n",
       " 'Kasia',\n",
       " 'Jasia',\n",
       " 'Jan',\n",
       " 'Lucjan',\n",
       " 'Wiesia',\n",
       " 'Esteban',\n",
       " 'esteban julio ricardo montoya de la rosa ramirez',\n",
       " 'Rysio']"
      ]
     },
     "execution_count": 42,
     "metadata": {},
     "output_type": "execute_result"
    }
   ],
   "source": [
    "ludzie"
   ]
  },
  {
   "cell_type": "code",
   "execution_count": 46,
   "metadata": {},
   "outputs": [
    {
     "data": {
      "text/plain": [
       "['Basia',\n",
       " 'Esteban',\n",
       " 'Jan',\n",
       " 'Jasia',\n",
       " 'Kasia',\n",
       " 'Lucjan',\n",
       " 'Rysio',\n",
       " 'Wiesia',\n",
       " 'esteban julio ricardo montoya de la rosa ramirez']"
      ]
     },
     "execution_count": 46,
     "metadata": {},
     "output_type": "execute_result"
    }
   ],
   "source": [
    "ludzie.sort()\n",
    "ludzie"
   ]
  },
  {
   "cell_type": "code",
   "execution_count": 51,
   "metadata": {},
   "outputs": [],
   "source": [
    "lista= [1, 2, 3, (5, 7, 9)]"
   ]
  },
  {
   "cell_type": "code",
   "execution_count": 52,
   "metadata": {},
   "outputs": [
    {
     "data": {
      "text/plain": [
       "(5, 7, 9)"
      ]
     },
     "execution_count": 52,
     "metadata": {},
     "output_type": "execute_result"
    }
   ],
   "source": [
    "lista[3]"
   ]
  },
  {
   "cell_type": "code",
   "execution_count": 53,
   "metadata": {},
   "outputs": [
    {
     "data": {
      "text/plain": [
       "9"
      ]
     },
     "execution_count": 53,
     "metadata": {},
     "output_type": "execute_result"
    }
   ],
   "source": [
    "lista[3][2]"
   ]
  },
  {
   "cell_type": "code",
   "execution_count": null,
   "metadata": {},
   "outputs": [],
   "source": []
  }
 ],
 "metadata": {
  "kernelspec": {
   "display_name": "Python 3",
   "language": "python",
   "name": "python3"
  },
  "language_info": {
   "codemirror_mode": {
    "name": "ipython",
    "version": 3
   },
   "file_extension": ".py",
   "mimetype": "text/x-python",
   "name": "python",
   "nbconvert_exporter": "python",
   "pygments_lexer": "ipython3",
   "version": "3.7.0"
  }
 },
 "nbformat": 4,
 "nbformat_minor": 2
}
